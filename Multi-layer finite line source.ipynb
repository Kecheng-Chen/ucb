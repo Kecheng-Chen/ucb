{
 "cells": [
  {
   "cell_type": "code",
   "execution_count": 2,
   "metadata": {},
   "outputs": [],
   "source": [
    "from scipy import special\n",
    "import scipy.integrate as integrate\n",
    "import matplotlib.pyplot as plt\n",
    "import numpy as np\n",
    "from scipy.ndimage import gaussian_filter1d"
   ]
  },
  {
   "cell_type": "markdown",
   "metadata": {},
   "source": [
    "### Infinite line source"
   ]
  },
  {
   "cell_type": "code",
   "execution_count": 4,
   "metadata": {},
   "outputs": [
    {
     "name": "stdout",
     "output_type": "stream",
     "text": [
      "10.221345606474122\n"
     ]
    }
   ],
   "source": [
    "L_list=np.array([10,10])\n",
    "r=0.125+0.5 #radius (m)\n",
    "time=3600*24*7 #time (s)\n",
    "# Geological parameters\n",
    "k=np.array([1.5,3]) #thermal conductivity (W/mK)\n",
    "gamma=np.array([1500,1500]) #density (kg/m^3)\n",
    "Cp=np.array([800,800]) #heat capacity (J/kgK)\n",
    "a=k/(gamma*Cp) #diffusivity (m^2/s)\n",
    "q=145/2*(1+k[0]*np.sum(L_list)/(np.sum(k*L_list))) #heat flux (W/m)\n",
    "\n",
    "print(q/(4*np.pi*k[0])*special.exp1(r**2/(4*a[0]*time)))"
   ]
  },
  {
   "cell_type": "code",
   "execution_count": null,
   "metadata": {},
   "outputs": [],
   "source": []
  },
  {
   "cell_type": "markdown",
   "metadata": {},
   "source": [
    "### Multi-layer finite line source"
   ]
  },
  {
   "cell_type": "code",
   "execution_count": 3,
   "metadata": {},
   "outputs": [],
   "source": [
    "def delta_T_1_j(x_start,x_end,rA,hA,a,t,q,k):\n",
    "    result=[]\n",
    "    for h0 in hA:\n",
    "        result_temp=integrate.quad(lambda x: special.erfc(np.sqrt((x-h0)**2+rA**2)/(2*np.sqrt(a*t)))/np.sqrt((x-h0)**2+rA**2)\\\n",
    "                                   -special.erfc(np.sqrt((x+h0)**2+rA**2)/(2*np.sqrt(a*t)))/np.sqrt((x+h0)**2+rA**2),\\\n",
    "                                   x_start,x_end)\n",
    "        result.append(q/(4*np.pi*k)*result_temp[0])\n",
    "    return result\n",
    "\n",
    "def s_ratio(L_list,j,i,x,hA):\n",
    "    s_ratio_list=[]\n",
    "    if j>i:\n",
    "        for k in range(i,j+1):\n",
    "            if k==i:\n",
    "                s_ratio_list.append((np.sum(L_list[:i+1])-x)/(hA-x))\n",
    "            elif k==j:\n",
    "                s_ratio_list.append((hA-np.sum(L_list[:j]))/(hA-x))\n",
    "            else:\n",
    "                s_ratio_list.append(L_list[k]/(hA-x))\n",
    "    else:\n",
    "        for k in range(i,j-1,-1):\n",
    "            if k==i:\n",
    "                s_ratio_list.append(x-(np.sum(L_list[:i]))/(x-hA))\n",
    "            elif k==j:\n",
    "                s_ratio_list.append((np.sum(L_list[:j+1])-hA)/(x-hA))\n",
    "            else:\n",
    "                s_ratio_list.append(L_list[k]/(x-hA))\n",
    "    return np.array(s_ratio_list)\n",
    "\n",
    "def s_ratio_quotation(L_list,j,i,x,hA):\n",
    "    s_ratio_list=[]\n",
    "    index=np.concatenate((np.arange(i,-1,-1),np.arange(0,j+1))).tolist()\n",
    "    for k in range(0,i+j+2):\n",
    "        if k==0:\n",
    "            s_ratio_list.append((x-np.sum(L_list[:i]))/(x+hA))\n",
    "        elif k==i+j+1:\n",
    "            s_ratio_list.append((hA-np.sum(L_list[:j]))/(x+hA))\n",
    "        else:\n",
    "            s_ratio_list.append(L_list[index[k]]/(x+hA))\n",
    "    return np.array(s_ratio_list)\n",
    "\n",
    "def delta_T_2_ij(k_list,gamma_list,Cp_list,L_list,rA,hA,t,q,j,i):\n",
    "    result=[]\n",
    "    for h0 in hA:\n",
    "        if j>i:\n",
    "            k_comp=lambda x: 1/np.sum(s_ratio(L_list,j,i,x,h0)/k_list[i:j+1])\n",
    "            gamma_comp=lambda x: np.sum(s_ratio(L_list,j,i,x,h0)*gamma_list[i:j+1])\n",
    "            Cp_comp=lambda x: np.sum(Cp_list[i:j+1]*s_ratio(L_list,j,i,x,h0)*gamma_list[i:j+1]\\\n",
    "                                 /np.sum(s_ratio(L_list,j,i,x,h0)*gamma_list[i:j+1]))\n",
    "        else:\n",
    "            if j-1>-1:\n",
    "                k_comp=lambda x: 1/np.sum(s_ratio(L_list,j,i,x,h0)/k_list[i:j-1:-1])\n",
    "                gamma_comp=lambda x: np.sum(s_ratio(L_list,j,i,x,h0)*gamma_list[i:j-1:-1])\n",
    "                Cp_comp=lambda x: np.sum(Cp_list[i:j-1:-1]*s_ratio(L_list,j,i,x,h0)*gamma_list[i:j-1:-1]\\\n",
    "                                 /np.sum(s_ratio(L_list,j,i,x,h0)*gamma_list[i:j-1:-1]))\n",
    "            else:\n",
    "                k_comp=lambda x: 1/np.sum(s_ratio(L_list,j,i,x,h0)/k_list[i::-1])\n",
    "                gamma_comp=lambda x: np.sum(s_ratio(L_list,j,i,x,h0)*gamma_list[i::-1])\n",
    "                Cp_comp=lambda x: np.sum(Cp_list[i::-1]*s_ratio(L_list,j,i,x,h0)*gamma_list[i::-1]\\\n",
    "                                 /np.sum(s_ratio(L_list,j,i,x,h0)*gamma_list[i::-1]))\n",
    "        k_comp_quotation=lambda x: 1/np.sum(s_ratio_quotation(L_list,j,i,x,h0)\\\n",
    "                                        /k_list[np.concatenate((np.arange(i,-1,-1),np.arange(0,j+1))).tolist()])\n",
    "        gamma_comp_quotation=lambda x: np.sum(s_ratio_quotation(L_list,j,i,x,h0)\\\n",
    "                                          *gamma_list[np.concatenate((np.arange(i,-1,-1),np.arange(0,j+1))).tolist()])\n",
    "        Cp_comp_quotation=lambda x: np.sum(Cp_list[np.concatenate((np.arange(i,-1,-1),np.arange(0,j+1))).tolist()]\\\n",
    "                                       *s_ratio_quotation(L_list,j,i,x,h0)\\\n",
    "                                       *gamma_list[np.concatenate((np.arange(i,-1,-1),np.arange(0,j+1))).tolist()]\\\n",
    "                                 /np.sum(s_ratio_quotation(L_list,j,i,x,h0)\\\n",
    "                                         *gamma_list[np.concatenate((np.arange(i,-1,-1),np.arange(0,j+1))).tolist()]))\n",
    "        \n",
    "        a_comp=lambda x: k_comp(x)/(Cp_comp(x)*gamma_comp(x))\n",
    "        a_comp_quotation=lambda x: k_comp_quotation(x)/(Cp_comp_quotation(x)*gamma_comp_quotation(x))\n",
    "    \n",
    "        result_temp=integrate.quad(lambda x: special.erfc(np.sqrt((x-h0)**2+rA**2)/(2*np.sqrt(a_comp(x)*t)))\\\n",
    "                                   /(k_comp(x)*np.sqrt((x-h0)**2+rA**2))-\\\n",
    "                                   special.erfc(np.sqrt((x+h0)**2+rA**2)/(2*np.sqrt(a_comp_quotation(x)*t)))\\\n",
    "                                   /(k_comp_quotation(x)*np.sqrt((x+h0)**2+rA**2)),np.sum(L_list[:i]),\\\n",
    "                                   np.sum(L_list[:i+1]))\n",
    "        result.append(q/(4*np.pi)*result_temp[0])\n",
    "    return result"
   ]
  },
  {
   "cell_type": "code",
   "execution_count": 10,
   "metadata": {},
   "outputs": [
    {
     "data": {
      "text/plain": [
       "[<matplotlib.lines.Line2D at 0x1bb7fbf1e50>]"
      ]
     },
     "execution_count": 10,
     "metadata": {},
     "output_type": "execute_result"
    },
    {
     "data": {
      "image/png": "[encoded data removed]",
      "text/plain": [
       "<Figure size 432x288 with 1 Axes>"
      ]
     },
     "metadata": {
      "needs_background": "light"
     },
     "output_type": "display_data"
    }
   ],
   "source": [
    "# simulation inputs\n",
    "L_list=np.array([10,10]) #depth list (m)\n",
    "r=0.125+0 #radius (m)\n",
    "h_list=np.concatenate((np.linspace(0,10-1,161),np.linspace(10+1,20,161))) #depth (m)\n",
    "time=3600*24*7 #time (s)\n",
    "index_list=[0,1]\n",
    "\n",
    "# Geological parameters\n",
    "k=np.array([1.5,3]) #thermal conductivity (W/mK)\n",
    "gamma=np.array([1500,1500]) #density (kg/m^3)\n",
    "Cp=np.array([800,800]) #heat capacity (J/kgK)\n",
    "q=145 #heat flux (W/m)\n",
    "a=k/(gamma*Cp) #diffusivity (m^2/s)\n",
    "\n",
    "result_list=[]\n",
    "for h_value in h_list:\n",
    "    for j in index_list:\n",
    "        if h_value<=np.sum(L_list[:j+1]) and h_value>=np.sum(L_list[:j]):\n",
    "            h=[h_value]\n",
    "            q_j=q/2*(1+k[j]*np.sum(L_list)/(np.sum(k*L_list)))\n",
    "            result=delta_T_1_j(np.sum(L_list[:j]),np.sum(L_list[:j+1]),r,h,a[j],time,q_j,k[j])[0]\n",
    "            for i in index_list:\n",
    "                if j!=i:\n",
    "                    q_i=q/2*(1+k[i]*np.sum(L_list)/(np.sum(k*L_list)))\n",
    "                    result+=delta_T_2_ij(k,gamma,Cp,L_list,r,h,time,q_i,j,i)[0]\n",
    "    result_list.append(result)\n",
    "\n",
    "gg=np.array(result_list)\n",
    "index=np.arange(0,len(h_list)).tolist()\n",
    "for k in np.argwhere(np.isnan(gg)):\n",
    "    index.remove(k[0])\n",
    "h_list=h_list[index]\n",
    "gg=gg[index]\n",
    "plt.plot(h_list,gg)"
   ]
  },
  {
   "cell_type": "code",
   "execution_count": null,
   "metadata": {},
   "outputs": [],
   "source": []
  }
 ],
 "metadata": {
  "kernelspec": {
   "display_name": "Python 3 (ipykernel)",
   "language": "python",
   "name": "python3"
  },
  "language_info": {
   "codemirror_mode": {
    "name": "ipython",
    "version": 3
   },
   "file_extension": ".py",
   "mimetype": "text/x-python",
   "name": "python",
   "nbconvert_exporter": "python",
   "pygments_lexer": "ipython3",
   "version": "3.9.12"
  }
 },
 "nbformat": 4,
 "nbformat_minor": 4
}
